{
 "cells": [
  {
   "cell_type": "code",
   "execution_count": 2,
   "metadata": {},
   "outputs": [],
   "source": [
    "#Import all libraries I need\n",
    "import pandas as pd\n",
    "import numpy as np\n",
    "import matplotlib.pyplot as plt\n",
    "import seaborn as sns\n",
    "from category_encoders import OneHotEncoder\n",
    "from sklearn.ensemble import RandomForestRegressor\n",
    "from sklearn.pipeline import make_pipeline\n",
    "from sklearn.impute import SimpleImputer\n",
    "from sklearn.linear_model import Ridge, LogisticRegression\n",
    "from sklearn.preprocessing import StandardScaler\n",
    "from sklearn.model_selection import train_test_split, GridSearchCV\n",
    "from sklearn.inspection import permutation_importance\n",
    "from sklearn.metrics import roc_auc_score, plot_roc_curve, mean_absolute_error\n",
    "from xgboost import XGBRegressor\n",
    "from pdpbox.pdp import pdp_isolate, pdp_interact, pdp_interact_plot, pdp_plot"
   ]
  },
  {
   "cell_type": "code",
   "execution_count": 3,
   "metadata": {},
   "outputs": [],
   "source": [
    "df = pd.read_csv('data/aac_intakes_outcomes.csv.zip',\n",
    "                 parse_dates=['intake_datetime'], index_col='intake_datetime')"
   ]
  },
  {
   "cell_type": "code",
   "execution_count": 4,
   "metadata": {},
   "outputs": [
    {
     "name": "stdout",
     "output_type": "stream",
     "text": [
      "<class 'pandas.core.frame.DataFrame'>\n",
      "DatetimeIndex: 79672 entries, 2017-12-07 00:00:00 to 2018-03-29 18:20:00\n",
      "Data columns (total 40 columns):\n",
      " #   Column                      Non-Null Count  Dtype  \n",
      "---  ------                      --------------  -----  \n",
      " 0   age_upon_outcome            79672 non-null  object \n",
      " 1   animal_id_outcome           79672 non-null  object \n",
      " 2   date_of_birth               79672 non-null  object \n",
      " 3   outcome_subtype             36348 non-null  object \n",
      " 4   outcome_type                79662 non-null  object \n",
      " 5   sex_upon_outcome            79671 non-null  object \n",
      " 6   age_upon_outcome_(days)     79672 non-null  int64  \n",
      " 7   age_upon_outcome_(years)    79672 non-null  float64\n",
      " 8   age_upon_outcome_age_group  79672 non-null  object \n",
      " 9   outcome_datetime            79672 non-null  object \n",
      " 10  outcome_month               79672 non-null  int64  \n",
      " 11  outcome_year                79672 non-null  int64  \n",
      " 12  outcome_monthyear           79672 non-null  object \n",
      " 13  outcome_weekday             79672 non-null  object \n",
      " 14  outcome_hour                79672 non-null  int64  \n",
      " 15  outcome_number              79672 non-null  float64\n",
      " 16  dob_year                    79672 non-null  int64  \n",
      " 17  dob_month                   79672 non-null  int64  \n",
      " 18  dob_monthyear               79672 non-null  object \n",
      " 19  age_upon_intake             79672 non-null  object \n",
      " 20  animal_id_intake            79672 non-null  object \n",
      " 21  animal_type                 79672 non-null  object \n",
      " 22  breed                       79672 non-null  object \n",
      " 23  color                       79672 non-null  object \n",
      " 24  found_location              79672 non-null  object \n",
      " 25  intake_condition            79672 non-null  object \n",
      " 26  intake_type                 79672 non-null  object \n",
      " 27  sex_upon_intake             79671 non-null  object \n",
      " 28  count                       79672 non-null  int64  \n",
      " 29  age_upon_intake_(days)      79672 non-null  int64  \n",
      " 30  age_upon_intake_(years)     79672 non-null  float64\n",
      " 31  age_upon_intake_age_group   79672 non-null  object \n",
      " 32  intake_month                79672 non-null  int64  \n",
      " 33  intake_year                 79672 non-null  int64  \n",
      " 34  intake_monthyear            79672 non-null  object \n",
      " 35  intake_weekday              79672 non-null  object \n",
      " 36  intake_hour                 79672 non-null  int64  \n",
      " 37  intake_number               79672 non-null  float64\n",
      " 38  time_in_shelter             79672 non-null  object \n",
      " 39  time_in_shelter_days        79672 non-null  float64\n",
      "dtypes: float64(5), int64(11), object(24)\n",
      "memory usage: 24.9+ MB\n"
     ]
    }
   ],
   "source": [
    "df.info()"
   ]
  },
  {
   "cell_type": "markdown",
   "metadata": {},
   "source": [
    "Plot all numerical variables with age upon intake as well as seeing if what day the animal was brought in has a factor "
   ]
  },
  {
   "cell_type": "code",
   "execution_count": 5,
   "metadata": {},
   "outputs": [
    {
     "data": {
      "text/plain": [
       "Text(0, 0.5, 'Type of Animal')"
      ]
     },
     "execution_count": 5,
     "metadata": {},
     "output_type": "execute_result"
    },
    {
     "data": {
      "image/png": "[encoded data removed]",
      "text/plain": [
       "<Figure size 432x288 with 1 Axes>"
      ]
     },
     "metadata": {
      "needs_background": "light"
     },
     "output_type": "display_data"
    }
   ],
   "source": [
    "#`age_upon-intake` and `animal_type`\n",
    "\n",
    "sns.barplot(x=df['age_upon_intake_(years)'],\n",
    "           y=df['animal_type'])\n",
    "plt.title('Animal Type and Age Upon Intake)')\n",
    "plt.xlabel('Intake Age(years)')\n",
    "plt.ylabel('Type of Animal')"
   ]
  },
  {
   "cell_type": "code",
   "execution_count": 6,
   "metadata": {},
   "outputs": [
    {
     "data": {
      "text/plain": [
       "Dog      0.569410\n",
       "Cat      0.370758\n",
       "Other    0.055578\n",
       "Bird     0.004255\n",
       "Name: animal_type, dtype: float64"
      ]
     },
     "execution_count": 6,
     "metadata": {},
     "output_type": "execute_result"
    }
   ],
   "source": [
    "df['animal_type'].value_counts(normalize=True)"
   ]
  },
  {
   "cell_type": "code",
   "execution_count": 7,
   "metadata": {},
   "outputs": [
    {
     "data": {
      "image/png": "[encoded data removed]",
      "text/plain": [
       "<Figure size 432x288 with 1 Axes>"
      ]
     },
     "metadata": {},
     "output_type": "display_data"
    }
   ],
   "source": [
    "#Types od animals in the shelter\n",
    "label= 'Dog', 'Cat', 'Bird', 'Other'\n",
    "size= [56, 37, 5.5, .4]\n",
    "expand= (0.1, 0.1, 0.1, 0.2)\n",
    "fig, ax = plt.subplots()\n",
    "ax.pie(size, explode=expand, labels=label, autopct='%1.1f%%', startangle=90)\n",
    "plt.show()"
   ]
  },
  {
   "cell_type": "code",
   "execution_count": 8,
   "metadata": {},
   "outputs": [
    {
     "data": {
      "text/plain": [
       "Partner                19840\n",
       "Foster                  5490\n",
       "SCRP                    3205\n",
       "Suffering               2549\n",
       "Rabies Risk             2539\n",
       "Snr                      752\n",
       "Aggressive               497\n",
       "In Kennel                351\n",
       "Offsite                  350\n",
       "Medical                  265\n",
       "In Foster                177\n",
       "Behavior                 133\n",
       "At Vet                    71\n",
       "Enroute                   49\n",
       "Underage                  28\n",
       "Court/Investigation       23\n",
       "In Surgery                17\n",
       "Possible Theft             9\n",
       "Barn                       3\n",
       "Name: outcome_subtype, dtype: int64"
      ]
     },
     "execution_count": 8,
     "metadata": {},
     "output_type": "execute_result"
    }
   ],
   "source": [
    "df['outcome_subtype'].value_counts()"
   ]
  },
  {
   "cell_type": "code",
   "execution_count": 9,
   "metadata": {},
   "outputs": [
    {
     "data": {
      "image/png": "[encoded data removed]",
      "text/plain": [
       "<Figure size 432x288 with 1 Axes>"
      ]
     },
     "metadata": {},
     "output_type": "display_data"
    }
   ],
   "source": [
    "labels = 'Adoption', 'Return to Owner', 'Died', 'Transfer', 'Other'\n",
    "wedge = [42, 18, 0.8, 29, 7.56]\n",
    "explode = (.1, 0, 0, 0, 0)\n",
    "fig, ax=plt.subplots()\n",
    "ax.pie(wedge, explode=explode, labels=labels, data=df['outcome_type'], autopct='%1.1f%%',\n",
    "       startangle=90)\n",
    "plt.show()"
   ]
  },
  {
   "cell_type": "code",
   "execution_count": 10,
   "metadata": {},
   "outputs": [
    {
     "data": {
      "text/plain": [
       "A721033    13\n",
       "A718223    11\n",
       "A706536    11\n",
       "A738324     8\n",
       "A616444     8\n",
       "           ..\n",
       "A710916     1\n",
       "A666260     1\n",
       "A683234     1\n",
       "A665121     1\n",
       "A690818     1\n",
       "Name: animal_id_intake, Length: 71961, dtype: int64"
      ]
     },
     "execution_count": 10,
     "metadata": {},
     "output_type": "execute_result"
    }
   ],
   "source": [
    "df['animal_id_intake'].value_counts()"
   ]
  },
  {
   "cell_type": "code",
   "execution_count": 11,
   "metadata": {},
   "outputs": [
    {
     "data": {
      "text/plain": [
       "intake_datetime\n",
       "2017-12-07 00:00:00    False\n",
       "2014-12-19 10:21:00     True\n",
       "2014-03-07 14:26:00     True\n",
       "2014-04-02 15:55:00    False\n",
       "2013-11-16 09:02:00    False\n",
       "                       ...  \n",
       "2018-03-29 16:23:00    False\n",
       "2018-03-29 17:13:00    False\n",
       "2018-03-29 17:19:00    False\n",
       "2018-03-29 18:19:00    False\n",
       "2018-03-29 18:20:00    False\n",
       "Length: 79672, dtype: bool"
      ]
     },
     "execution_count": 11,
     "metadata": {},
     "output_type": "execute_result"
    }
   ],
   "source": [
    "dup_row = df.duplicated(subset='animal_id_intake', keep='first')\n",
    "dup_row"
   ]
  },
  {
   "cell_type": "code",
   "execution_count": 12,
   "metadata": {},
   "outputs": [],
   "source": [
    "#Creating wrangle function\n",
    "def wrangle(filepath):\n",
    "    df = pd.read_csv(filepath, parse_dates=['intake_datetime'], index_col='intake_datetime')\n",
    "    \n",
    "    #drop duplicated rows\n",
    "    df.drop_duplicates(keep='first', inplace=True)\n",
    "    \n",
    "    #drop columns that are highly correlated with other columns\n",
    "    df.drop(columns=['outcome_subtype', 'count', 'age_upon_outcome_age_group', 'age_upon_outcome_(days)', 'age_upon_intake_age_group',\n",
    "                     'dob_year', 'age_upon_intake_(days)', 'outcome_hour'], inplace=True)\n",
    "    \n",
    "    #drop high cardinallity variables\n",
    "    high_car = [col for col in df.select_dtypes('object').columns if df[col].nunique() > 50]\n",
    "    df.drop(columns=high_car, inplace=True)\n",
    "    \n",
    "    dupe_cols = df.columns[df.head(20).T.duplicated()]\n",
    "    df.drop(columns=dupe_cols, inplace=True)\n",
    "    \n",
    "    return df"
   ]
  },
  {
   "cell_type": "code",
   "execution_count": 13,
   "metadata": {},
   "outputs": [],
   "source": [
    "d = wrangle('data/aac_intakes_outcomes.csv.zip')"
   ]
  },
  {
   "cell_type": "code",
   "execution_count": 14,
   "metadata": {},
   "outputs": [
    {
     "data": {
      "text/plain": [
       "(79637, 16)"
      ]
     },
     "execution_count": 14,
     "metadata": {},
     "output_type": "execute_result"
    }
   ],
   "source": [
    "d.shape"
   ]
  },
  {
   "cell_type": "code",
   "execution_count": 15,
   "metadata": {},
   "outputs": [
    {
     "data": {
      "text/html": [
       "<div>\n",
       "<style scoped>\n",
       "    .dataframe tbody tr th:only-of-type {\n",
       "        vertical-align: middle;\n",
       "    }\n",
       "\n",
       "    .dataframe tbody tr th {\n",
       "        vertical-align: top;\n",
       "    }\n",
       "\n",
       "    .dataframe thead th {\n",
       "        text-align: right;\n",
       "    }\n",
       "</style>\n",
       "<table border=\"1\" class=\"dataframe\">\n",
       "  <thead>\n",
       "    <tr style=\"text-align: right;\">\n",
       "      <th></th>\n",
       "      <th>age_upon_outcome</th>\n",
       "      <th>outcome_type</th>\n",
       "      <th>sex_upon_outcome</th>\n",
       "      <th>age_upon_outcome_(years)</th>\n",
       "      <th>outcome_month</th>\n",
       "      <th>outcome_year</th>\n",
       "      <th>outcome_weekday</th>\n",
       "      <th>outcome_number</th>\n",
       "      <th>dob_month</th>\n",
       "      <th>animal_type</th>\n",
       "      <th>intake_condition</th>\n",
       "      <th>intake_type</th>\n",
       "      <th>intake_month</th>\n",
       "      <th>intake_weekday</th>\n",
       "      <th>intake_hour</th>\n",
       "      <th>time_in_shelter_days</th>\n",
       "    </tr>\n",
       "    <tr>\n",
       "      <th>intake_datetime</th>\n",
       "      <th></th>\n",
       "      <th></th>\n",
       "      <th></th>\n",
       "      <th></th>\n",
       "      <th></th>\n",
       "      <th></th>\n",
       "      <th></th>\n",
       "      <th></th>\n",
       "      <th></th>\n",
       "      <th></th>\n",
       "      <th></th>\n",
       "      <th></th>\n",
       "      <th></th>\n",
       "      <th></th>\n",
       "      <th></th>\n",
       "      <th></th>\n",
       "    </tr>\n",
       "  </thead>\n",
       "  <tbody>\n",
       "    <tr>\n",
       "      <th>2017-12-07 00:00:00</th>\n",
       "      <td>10 years</td>\n",
       "      <td>Return to Owner</td>\n",
       "      <td>Neutered Male</td>\n",
       "      <td>10.0</td>\n",
       "      <td>12</td>\n",
       "      <td>2017</td>\n",
       "      <td>Thursday</td>\n",
       "      <td>1.0</td>\n",
       "      <td>7</td>\n",
       "      <td>Dog</td>\n",
       "      <td>Normal</td>\n",
       "      <td>Stray</td>\n",
       "      <td>12</td>\n",
       "      <td>Thursday</td>\n",
       "      <td>14</td>\n",
       "      <td>0.588194</td>\n",
       "    </tr>\n",
       "    <tr>\n",
       "      <th>2014-12-19 10:21:00</th>\n",
       "      <td>7 years</td>\n",
       "      <td>Return to Owner</td>\n",
       "      <td>Neutered Male</td>\n",
       "      <td>7.0</td>\n",
       "      <td>12</td>\n",
       "      <td>2014</td>\n",
       "      <td>Saturday</td>\n",
       "      <td>2.0</td>\n",
       "      <td>7</td>\n",
       "      <td>Dog</td>\n",
       "      <td>Normal</td>\n",
       "      <td>Public Assist</td>\n",
       "      <td>12</td>\n",
       "      <td>Friday</td>\n",
       "      <td>10</td>\n",
       "      <td>1.259722</td>\n",
       "    </tr>\n",
       "    <tr>\n",
       "      <th>2014-03-07 14:26:00</th>\n",
       "      <td>6 years</td>\n",
       "      <td>Return to Owner</td>\n",
       "      <td>Neutered Male</td>\n",
       "      <td>6.0</td>\n",
       "      <td>3</td>\n",
       "      <td>2014</td>\n",
       "      <td>Saturday</td>\n",
       "      <td>3.0</td>\n",
       "      <td>7</td>\n",
       "      <td>Dog</td>\n",
       "      <td>Normal</td>\n",
       "      <td>Public Assist</td>\n",
       "      <td>3</td>\n",
       "      <td>Friday</td>\n",
       "      <td>14</td>\n",
       "      <td>1.113889</td>\n",
       "    </tr>\n",
       "    <tr>\n",
       "      <th>2014-04-02 15:55:00</th>\n",
       "      <td>10 years</td>\n",
       "      <td>Transfer</td>\n",
       "      <td>Neutered Male</td>\n",
       "      <td>10.0</td>\n",
       "      <td>4</td>\n",
       "      <td>2014</td>\n",
       "      <td>Monday</td>\n",
       "      <td>1.0</td>\n",
       "      <td>4</td>\n",
       "      <td>Dog</td>\n",
       "      <td>Normal</td>\n",
       "      <td>Owner Surrender</td>\n",
       "      <td>4</td>\n",
       "      <td>Wednesday</td>\n",
       "      <td>15</td>\n",
       "      <td>4.970139</td>\n",
       "    </tr>\n",
       "    <tr>\n",
       "      <th>2013-11-16 09:02:00</th>\n",
       "      <td>16 years</td>\n",
       "      <td>Return to Owner</td>\n",
       "      <td>Neutered Male</td>\n",
       "      <td>16.0</td>\n",
       "      <td>11</td>\n",
       "      <td>2013</td>\n",
       "      <td>Saturday</td>\n",
       "      <td>1.0</td>\n",
       "      <td>10</td>\n",
       "      <td>Dog</td>\n",
       "      <td>Injured</td>\n",
       "      <td>Public Assist</td>\n",
       "      <td>11</td>\n",
       "      <td>Saturday</td>\n",
       "      <td>9</td>\n",
       "      <td>0.119444</td>\n",
       "    </tr>\n",
       "  </tbody>\n",
       "</table>\n",
       "</div>"
      ],
      "text/plain": [
       "                    age_upon_outcome     outcome_type sex_upon_outcome  \\\n",
       "intake_datetime                                                          \n",
       "2017-12-07 00:00:00         10 years  Return to Owner    Neutered Male   \n",
       "2014-12-19 10:21:00          7 years  Return to Owner    Neutered Male   \n",
       "2014-03-07 14:26:00          6 years  Return to Owner    Neutered Male   \n",
       "2014-04-02 15:55:00         10 years         Transfer    Neutered Male   \n",
       "2013-11-16 09:02:00         16 years  Return to Owner    Neutered Male   \n",
       "\n",
       "                     age_upon_outcome_(years)  outcome_month  outcome_year  \\\n",
       "intake_datetime                                                              \n",
       "2017-12-07 00:00:00                      10.0             12          2017   \n",
       "2014-12-19 10:21:00                       7.0             12          2014   \n",
       "2014-03-07 14:26:00                       6.0              3          2014   \n",
       "2014-04-02 15:55:00                      10.0              4          2014   \n",
       "2013-11-16 09:02:00                      16.0             11          2013   \n",
       "\n",
       "                    outcome_weekday  outcome_number  dob_month animal_type  \\\n",
       "intake_datetime                                                              \n",
       "2017-12-07 00:00:00        Thursday             1.0          7         Dog   \n",
       "2014-12-19 10:21:00        Saturday             2.0          7         Dog   \n",
       "2014-03-07 14:26:00        Saturday             3.0          7         Dog   \n",
       "2014-04-02 15:55:00          Monday             1.0          4         Dog   \n",
       "2013-11-16 09:02:00        Saturday             1.0         10         Dog   \n",
       "\n",
       "                    intake_condition      intake_type  intake_month  \\\n",
       "intake_datetime                                                       \n",
       "2017-12-07 00:00:00           Normal            Stray            12   \n",
       "2014-12-19 10:21:00           Normal    Public Assist            12   \n",
       "2014-03-07 14:26:00           Normal    Public Assist             3   \n",
       "2014-04-02 15:55:00           Normal  Owner Surrender             4   \n",
       "2013-11-16 09:02:00          Injured    Public Assist            11   \n",
       "\n",
       "                    intake_weekday  intake_hour  time_in_shelter_days  \n",
       "intake_datetime                                                        \n",
       "2017-12-07 00:00:00       Thursday           14              0.588194  \n",
       "2014-12-19 10:21:00         Friday           10              1.259722  \n",
       "2014-03-07 14:26:00         Friday           14              1.113889  \n",
       "2014-04-02 15:55:00      Wednesday           15              4.970139  \n",
       "2013-11-16 09:02:00       Saturday            9              0.119444  "
      ]
     },
     "execution_count": 15,
     "metadata": {},
     "output_type": "execute_result"
    }
   ],
   "source": [
    "d.head()"
   ]
  },
  {
   "cell_type": "markdown",
   "metadata": {},
   "source": [
    "# Split data"
   ]
  },
  {
   "cell_type": "code",
   "execution_count": 25,
   "metadata": {},
   "outputs": [],
   "source": [
    "target = 'age_upon_outcome_(years)'\n",
    "y = d[target]\n",
    "X = d.drop(columns=target)"
   ]
  },
  {
   "cell_type": "code",
   "execution_count": 26,
   "metadata": {},
   "outputs": [],
   "source": [
    "X_train, y_train = X[:-16000], y[:-16000]\n",
    "X_val, y_val = X[-16000: -8000], y[-16000: -8000]\n",
    "X_test, y_test = X[-8000:], y[-8000:]"
   ]
  },
  {
   "cell_type": "code",
   "execution_count": 27,
   "metadata": {},
   "outputs": [
    {
     "name": "stdout",
     "output_type": "stream",
     "text": [
      "Baseline: 0.1823310338325188\n"
     ]
    }
   ],
   "source": [
    "print('Baseline:', y_train.value_counts(normalize=True).max())"
   ]
  },
  {
   "cell_type": "code",
   "execution_count": 28,
   "metadata": {},
   "outputs": [],
   "source": [
    "#Create model \n",
    "model_gb = make_pipeline(OneHotEncoder(),\n",
    "                         XGBRegressor(random_state=42, n_jobs=-1))\n",
    "model_rf = make_pipeline(OneHotEncoder(),\n",
    "                         RandomForestRegressor(random_state=42, n_jobs=-1))\n",
    "model_r = make_pipeline(OneHotEncoder(),\n",
    "                        Ridge())"
   ]
  },
  {
   "cell_type": "code",
   "execution_count": 29,
   "metadata": {},
   "outputs": [
    {
     "data": {
      "text/plain": [
       "Pipeline(steps=[('onehotencoder',\n",
       "                 OneHotEncoder(cols=['age_upon_outcome', 'outcome_type',\n",
       "                                     'sex_upon_outcome', 'outcome_weekday',\n",
       "                                     'animal_type', 'intake_condition',\n",
       "                                     'intake_type', 'intake_weekday'])),\n",
       "                ('ridge', Ridge())])"
      ]
     },
     "execution_count": 29,
     "metadata": {},
     "output_type": "execute_result"
    }
   ],
   "source": [
    "#Fit the model using training data\n",
    "model_gb.fit(X_train, y_train)\n",
    "model_rf.fit(X_train, y_train)\n",
    "model_r.fit(X_train, y_train)"
   ]
  },
  {
   "cell_type": "code",
   "execution_count": 30,
   "metadata": {},
   "outputs": [
    {
     "name": "stdout",
     "output_type": "stream",
     "text": [
      "Training MAE GB: 0.019191462507514395\n",
      "Validation MAE GB: 0.022630737750446554\n",
      "Training MAE RF: 0.00020816097122857344\n",
      "Validation MAE RF: 7.477887666723637e-16\n",
      "Training MAE R: 0.007648218620069714\n",
      "Validation MAE R: 0.008038607062517723\n"
     ]
    }
   ],
   "source": [
    "#Check metrics\n",
    "print('Training MAE GB:', mean_absolute_error(y_train, model_gb.predict(X_train)))\n",
    "print('Validation MAE GB:', mean_absolute_error(y_val, model_gb.predict(X_val)))\n",
    "print('Training MAE RF:', mean_absolute_error(y_train, model_rf.predict(X_train)))\n",
    "print('Validation MAE RF:', mean_absolute_error(y_val, model_rf.predict(X_val)))\n",
    "print('Training MAE R:', mean_absolute_error(y_train, model_r.predict(X_train)))\n",
    "print('Validation MAE R:', mean_absolute_error(y_val, model_r.predict(X_val)))"
   ]
  },
  {
   "cell_type": "markdown",
   "metadata": {},
   "source": [
    "## Tuning my model "
   ]
  },
  {
   "cell_type": "markdown",
   "metadata": {},
   "source": [
    "With these params `params = {'ridge__alpha': (1.5, 2.0, 2.5),\n",
    "         'ridge__max_iter': (200, 250, 300),\n",
    "         'ridge__solver':['auto', 'svd', 'cholesky', 'lsqr', 'sparse_cg', 'sag', 'saga']}`\n",
    "The best out of those are: `alpha = 1.5, max_iter=200, solver = svd`\n",
    "\n",
    "With these params `params = {'ridge__alpha': (1.25, 1.5, 1.75),\n",
    "         'ridge__max_iter': (150, 175, 195),\n",
    "         'ridge__solver':['svd']}`\n",
    "The best out of those are: `alpha = 1.25, max_iter=150 , solver=svd`\n",
    "**Keeping solver the same**\n",
    "With these params: `params = {'ridge__alpha': (1.0, 1.15, 1.25),\n",
    "         'ridge__max_iter': (120, 130, 140),\n",
    "         'ridge__solver':['svd']}`\n",
    "         \n",
    "The best out of those are: `alpha=1 , max_iter=120`"
   ]
  },
  {
   "cell_type": "code",
   "execution_count": 31,
   "metadata": {},
   "outputs": [],
   "source": [
    "params = {'ridge__alpha': (1.0, 1.15, 1.25),\n",
    "         'ridge__max_iter': (120, 130, 140),\n",
    "         'ridge__solver':['svd']}"
   ]
  },
  {
   "cell_type": "code",
   "execution_count": 32,
   "metadata": {},
   "outputs": [
    {
     "name": "stdout",
     "output_type": "stream",
     "text": [
      "Fitting 3 folds for each of 9 candidates, totalling 27 fits\n"
     ]
    },
    {
     "name": "stderr",
     "output_type": "stream",
     "text": [
      "[Parallel(n_jobs=-1)]: Using backend LokyBackend with 4 concurrent workers.\n",
      "[Parallel(n_jobs=-1)]: Done   1 tasks      | elapsed:    6.9s\n",
      "[Parallel(n_jobs=-1)]: Done   2 tasks      | elapsed:    7.1s\n",
      "[Parallel(n_jobs=-1)]: Done   3 tasks      | elapsed:    7.2s\n",
      "[Parallel(n_jobs=-1)]: Done   4 tasks      | elapsed:    7.3s\n",
      "[Parallel(n_jobs=-1)]: Done   5 tasks      | elapsed:   14.7s\n",
      "[Parallel(n_jobs=-1)]: Done   6 tasks      | elapsed:   14.9s\n",
      "[Parallel(n_jobs=-1)]: Done   7 tasks      | elapsed:   15.0s\n",
      "[Parallel(n_jobs=-1)]: Done   8 tasks      | elapsed:   15.1s\n",
      "[Parallel(n_jobs=-1)]: Done   9 tasks      | elapsed:   22.0s\n",
      "[Parallel(n_jobs=-1)]: Done  10 tasks      | elapsed:   22.2s\n",
      "[Parallel(n_jobs=-1)]: Done  11 tasks      | elapsed:   22.5s\n",
      "[Parallel(n_jobs=-1)]: Done  12 tasks      | elapsed:   22.5s\n",
      "[Parallel(n_jobs=-1)]: Done  13 tasks      | elapsed:   29.4s\n",
      "[Parallel(n_jobs=-1)]: Done  14 tasks      | elapsed:   29.6s\n",
      "[Parallel(n_jobs=-1)]: Done  15 tasks      | elapsed:   29.7s\n",
      "[Parallel(n_jobs=-1)]: Done  16 tasks      | elapsed:   29.7s\n",
      "[Parallel(n_jobs=-1)]: Done  17 tasks      | elapsed:   37.1s\n",
      "[Parallel(n_jobs=-1)]: Done  18 tasks      | elapsed:   37.4s\n",
      "[Parallel(n_jobs=-1)]: Done  19 tasks      | elapsed:   37.7s\n",
      "[Parallel(n_jobs=-1)]: Done  20 tasks      | elapsed:   37.8s\n",
      "[Parallel(n_jobs=-1)]: Done  22 out of  27 | elapsed:   44.5s remaining:   10.1s\n",
      "[Parallel(n_jobs=-1)]: Done  24 out of  27 | elapsed:   44.7s remaining:    5.6s\n",
      "[Parallel(n_jobs=-1)]: Done  27 out of  27 | elapsed:   51.1s finished\n"
     ]
    },
    {
     "data": {
      "text/plain": [
       "GridSearchCV(cv=3,\n",
       "             estimator=Pipeline(steps=[('onehotencoder',\n",
       "                                        OneHotEncoder(cols=['age_upon_outcome',\n",
       "                                                            'outcome_type',\n",
       "                                                            'sex_upon_outcome',\n",
       "                                                            'outcome_weekday',\n",
       "                                                            'animal_type',\n",
       "                                                            'intake_condition',\n",
       "                                                            'intake_type',\n",
       "                                                            'intake_weekday'])),\n",
       "                                       ('ridge', Ridge())]),\n",
       "             n_jobs=-1,\n",
       "             param_grid={'ridge__alpha': (1.0, 1.15, 1.25),\n",
       "                         'ridge__max_iter': (120, 130, 140),\n",
       "                         'ridge__solver': ['svd']},\n",
       "             verbose=15)"
      ]
     },
     "execution_count": 32,
     "metadata": {},
     "output_type": "execute_result"
    }
   ],
   "source": [
    "model_gs = GridSearchCV(model_r, param_grid=params, n_jobs=-1, cv=3, verbose=15)\n",
    "model_gs.fit(X,y)"
   ]
  },
  {
   "cell_type": "code",
   "execution_count": 33,
   "metadata": {},
   "outputs": [
    {
     "name": "stdout",
     "output_type": "stream",
     "text": [
      "{'ridge__alpha': 1.0, 'ridge__max_iter': 120, 'ridge__solver': 'svd'}\n",
      "Pipeline(steps=[('onehotencoder',\n",
      "                 OneHotEncoder(cols=['age_upon_outcome', 'outcome_type',\n",
      "                                     'sex_upon_outcome', 'outcome_weekday',\n",
      "                                     'animal_type', 'intake_condition',\n",
      "                                     'intake_type', 'intake_weekday'])),\n",
      "                ('ridge', Ridge(max_iter=120, solver='svd'))])\n",
      "0.9989798100029493\n"
     ]
    }
   ],
   "source": [
    "print(model_gs.best_params_)\n",
    "print(model_gs.best_estimator_)\n",
    "print(model_gs.best_score_)"
   ]
  },
  {
   "cell_type": "markdown",
   "metadata": {},
   "source": [
    "## Communicate results"
   ]
  },
  {
   "cell_type": "code",
   "execution_count": 34,
   "metadata": {},
   "outputs": [
    {
     "name": "stdout",
     "output_type": "stream",
     "text": [
      "Fitting 3 folds for each of 9 candidates, totalling 27 fits\n"
     ]
    },
    {
     "name": "stderr",
     "output_type": "stream",
     "text": [
      "[Parallel(n_jobs=-1)]: Using backend LokyBackend with 4 concurrent workers.\n",
      "[Parallel(n_jobs=-1)]: Done   1 tasks      | elapsed:    5.4s\n",
      "[Parallel(n_jobs=-1)]: Done   2 tasks      | elapsed:    5.5s\n",
      "[Parallel(n_jobs=-1)]: Done   3 tasks      | elapsed:    5.6s\n",
      "[Parallel(n_jobs=-1)]: Done   4 tasks      | elapsed:    5.7s\n",
      "[Parallel(n_jobs=-1)]: Done   5 tasks      | elapsed:   12.6s\n",
      "[Parallel(n_jobs=-1)]: Done   6 tasks      | elapsed:   12.7s\n",
      "[Parallel(n_jobs=-1)]: Done   7 tasks      | elapsed:   12.7s\n",
      "[Parallel(n_jobs=-1)]: Done   8 tasks      | elapsed:   12.9s\n",
      "[Parallel(n_jobs=-1)]: Done   9 tasks      | elapsed:   18.6s\n",
      "[Parallel(n_jobs=-1)]: Done  10 tasks      | elapsed:   18.7s\n",
      "[Parallel(n_jobs=-1)]: Done  11 tasks      | elapsed:   18.8s\n",
      "[Parallel(n_jobs=-1)]: Done  12 tasks      | elapsed:   18.9s\n",
      "[Parallel(n_jobs=-1)]: Done  13 tasks      | elapsed:   23.7s\n",
      "[Parallel(n_jobs=-1)]: Done  14 tasks      | elapsed:   23.8s\n",
      "[Parallel(n_jobs=-1)]: Done  15 tasks      | elapsed:   23.9s\n",
      "[Parallel(n_jobs=-1)]: Done  16 tasks      | elapsed:   24.0s\n",
      "[Parallel(n_jobs=-1)]: Done  17 tasks      | elapsed:   28.8s\n",
      "[Parallel(n_jobs=-1)]: Done  18 tasks      | elapsed:   28.9s\n",
      "[Parallel(n_jobs=-1)]: Done  19 tasks      | elapsed:   29.0s\n",
      "[Parallel(n_jobs=-1)]: Done  20 tasks      | elapsed:   29.1s\n",
      "[Parallel(n_jobs=-1)]: Done  22 out of  27 | elapsed:   33.9s remaining:    7.7s\n",
      "[Parallel(n_jobs=-1)]: Done  24 out of  27 | elapsed:   34.2s remaining:    4.3s\n",
      "[Parallel(n_jobs=-1)]: Done  27 out of  27 | elapsed:   37.9s finished\n"
     ]
    },
    {
     "data": {
      "text/plain": [
       "GridSearchCV(cv=3,\n",
       "             estimator=Pipeline(steps=[('onehotencoder',\n",
       "                                        OneHotEncoder(cols=['age_upon_outcome',\n",
       "                                                            'outcome_type',\n",
       "                                                            'sex_upon_outcome',\n",
       "                                                            'outcome_weekday',\n",
       "                                                            'animal_type',\n",
       "                                                            'intake_condition',\n",
       "                                                            'intake_type',\n",
       "                                                            'intake_weekday'])),\n",
       "                                       ('ridge', Ridge())]),\n",
       "             n_jobs=-1,\n",
       "             param_grid={'ridge__alpha': (1.0, 1.15, 1.25),\n",
       "                         'ridge__max_iter': (120, 130, 140),\n",
       "                         'ridge__solver': ['svd']},\n",
       "             verbose=15)"
      ]
     },
     "execution_count": 34,
     "metadata": {},
     "output_type": "execute_result"
    }
   ],
   "source": [
    "#To get permutation importances\n",
    "model_gs.fit(X_train, y_train)"
   ]
  },
  {
   "cell_type": "code",
   "execution_count": 35,
   "metadata": {},
   "outputs": [
    {
     "data": {
      "text/plain": [
       "array([0.99988713, 9.98708248, 0.03421064, 0.99485451, 0.24151654,\n",
       "       0.15712929, 0.8287838 , 0.8287838 , 0.32313466, 0.24084143,\n",
       "       0.24399586, 7.99604892, 0.03415975, 1.99808652, 1.99724243,\n",
       "       2.98882334, 2.99307745, 1.98980116, 0.4184116 , 0.16699748,\n",
       "       0.16785262, 0.16785289, 0.16699699, 0.65509965, 0.08416375,\n",
       "       0.08416375, 0.08100931, 0.08100931, 0.15320316, 1.00158831])"
      ]
     },
     "execution_count": 35,
     "metadata": {},
     "output_type": "execute_result"
    }
   ],
   "source": [
    "prediction = model_gs.predict(X_test)\n",
    "prediction [:30]"
   ]
  },
  {
   "cell_type": "code",
   "execution_count": 36,
   "metadata": {},
   "outputs": [],
   "source": [
    "perm_imp = permutation_importance(model_gs,\n",
    "                                 X_train,\n",
    "                                 y_train,\n",
    "                                 n_repeats=10,\n",
    "                                 n_jobs=-1,\n",
    "                                 random_state=42)"
   ]
  },
  {
   "cell_type": "code",
   "execution_count": 37,
   "metadata": {},
   "outputs": [],
   "source": [
    "data = {'imp_mean': perm_imp['importances_mean'],\n",
    "       'imp_std': perm_imp['importances_std']}"
   ]
  },
  {
   "cell_type": "code",
   "execution_count": 38,
   "metadata": {},
   "outputs": [],
   "source": [
    "results = pd.DataFrame(data, index=X_val.columns).sort_values('imp_mean')"
   ]
  },
  {
   "cell_type": "code",
   "execution_count": 39,
   "metadata": {},
   "outputs": [
    {
     "data": {
      "text/html": [
       "<div>\n",
       "<style scoped>\n",
       "    .dataframe tbody tr th:only-of-type {\n",
       "        vertical-align: middle;\n",
       "    }\n",
       "\n",
       "    .dataframe tbody tr th {\n",
       "        vertical-align: top;\n",
       "    }\n",
       "\n",
       "    .dataframe thead th {\n",
       "        text-align: right;\n",
       "    }\n",
       "</style>\n",
       "<table border=\"1\" class=\"dataframe\">\n",
       "  <thead>\n",
       "    <tr style=\"text-align: right;\">\n",
       "      <th></th>\n",
       "      <th>imp_mean</th>\n",
       "      <th>imp_std</th>\n",
       "    </tr>\n",
       "  </thead>\n",
       "  <tbody>\n",
       "    <tr>\n",
       "      <th>intake_hour</th>\n",
       "      <td>3.837056e-10</td>\n",
       "      <td>3.043801e-09</td>\n",
       "    </tr>\n",
       "    <tr>\n",
       "      <th>intake_month</th>\n",
       "      <td>1.323367e-08</td>\n",
       "      <td>1.747658e-08</td>\n",
       "    </tr>\n",
       "    <tr>\n",
       "      <th>dob_month</th>\n",
       "      <td>1.892382e-08</td>\n",
       "      <td>1.348612e-08</td>\n",
       "    </tr>\n",
       "    <tr>\n",
       "      <th>outcome_month</th>\n",
       "      <td>3.674017e-08</td>\n",
       "      <td>2.806545e-08</td>\n",
       "    </tr>\n",
       "    <tr>\n",
       "      <th>outcome_number</th>\n",
       "      <td>5.726128e-08</td>\n",
       "      <td>1.533128e-08</td>\n",
       "    </tr>\n",
       "    <tr>\n",
       "      <th>outcome_weekday</th>\n",
       "      <td>7.387615e-08</td>\n",
       "      <td>1.564130e-08</td>\n",
       "    </tr>\n",
       "    <tr>\n",
       "      <th>time_in_shelter_days</th>\n",
       "      <td>7.562271e-08</td>\n",
       "      <td>2.126755e-08</td>\n",
       "    </tr>\n",
       "    <tr>\n",
       "      <th>intake_weekday</th>\n",
       "      <td>9.017250e-08</td>\n",
       "      <td>3.236882e-08</td>\n",
       "    </tr>\n",
       "    <tr>\n",
       "      <th>outcome_year</th>\n",
       "      <td>1.576530e-07</td>\n",
       "      <td>3.812945e-08</td>\n",
       "    </tr>\n",
       "    <tr>\n",
       "      <th>intake_type</th>\n",
       "      <td>2.442701e-06</td>\n",
       "      <td>1.100846e-07</td>\n",
       "    </tr>\n",
       "    <tr>\n",
       "      <th>outcome_type</th>\n",
       "      <td>3.733978e-06</td>\n",
       "      <td>2.253826e-07</td>\n",
       "    </tr>\n",
       "    <tr>\n",
       "      <th>animal_type</th>\n",
       "      <td>4.017376e-06</td>\n",
       "      <td>1.052245e-07</td>\n",
       "    </tr>\n",
       "    <tr>\n",
       "      <th>intake_condition</th>\n",
       "      <td>6.105043e-06</td>\n",
       "      <td>1.182244e-07</td>\n",
       "    </tr>\n",
       "    <tr>\n",
       "      <th>sex_upon_outcome</th>\n",
       "      <td>9.711808e-06</td>\n",
       "      <td>2.941333e-07</td>\n",
       "    </tr>\n",
       "    <tr>\n",
       "      <th>age_upon_outcome</th>\n",
       "      <td>1.989033e+00</td>\n",
       "      <td>6.694584e-03</td>\n",
       "    </tr>\n",
       "  </tbody>\n",
       "</table>\n",
       "</div>"
      ],
      "text/plain": [
       "                          imp_mean       imp_std\n",
       "intake_hour           3.837056e-10  3.043801e-09\n",
       "intake_month          1.323367e-08  1.747658e-08\n",
       "dob_month             1.892382e-08  1.348612e-08\n",
       "outcome_month         3.674017e-08  2.806545e-08\n",
       "outcome_number        5.726128e-08  1.533128e-08\n",
       "outcome_weekday       7.387615e-08  1.564130e-08\n",
       "time_in_shelter_days  7.562271e-08  2.126755e-08\n",
       "intake_weekday        9.017250e-08  3.236882e-08\n",
       "outcome_year          1.576530e-07  3.812945e-08\n",
       "intake_type           2.442701e-06  1.100846e-07\n",
       "outcome_type          3.733978e-06  2.253826e-07\n",
       "animal_type           4.017376e-06  1.052245e-07\n",
       "intake_condition      6.105043e-06  1.182244e-07\n",
       "sex_upon_outcome      9.711808e-06  2.941333e-07\n",
       "age_upon_outcome      1.989033e+00  6.694584e-03"
      ]
     },
     "execution_count": 39,
     "metadata": {},
     "output_type": "execute_result"
    }
   ],
   "source": [
    "results"
   ]
  },
  {
   "cell_type": "code",
   "execution_count": 40,
   "metadata": {},
   "outputs": [
    {
     "data": {
      "text/plain": [
       "(<Figure size 1080x684 with 2 Axes>,\n",
       " {'title_ax': <AxesSubplot:>,\n",
       "  'pdp_ax': <AxesSubplot:xlabel='time_in_shelter_days'>})"
      ]
     },
     "execution_count": 40,
     "metadata": {},
     "output_type": "execute_result"
    },
    {
     "data": {
      "image/png": "[encoded data removed]",
      "text/plain": [
       "<Figure size 1080x684 with 2 Axes>"
      ]
     },
     "metadata": {
      "needs_background": "light"
     },
     "output_type": "display_data"
    }
   ],
   "source": [
    "#Communicate results\n",
    "feature = 'time_in_shelter_days'\n",
    "\n",
    "isolate = pdp_isolate(\n",
    "    model_gs,\n",
    "    dataset=X_val,\n",
    "    model_features=X_val.columns,\n",
    "    feature=feature\n",
    ")\n",
    "pdp_plot(isolate, feature_name=feature)"
   ]
  },
  {
   "cell_type": "code",
   "execution_count": 41,
   "metadata": {},
   "outputs": [
    {
     "data": {
      "text/plain": [
       "(<Figure size 540x684 with 3 Axes>,\n",
       " {'title_ax': <AxesSubplot:>,\n",
       "  'pdp_inter_ax': <AxesSubplot:xlabel='intake_month', ylabel='outcome_month'>})"
      ]
     },
     "execution_count": 41,
     "metadata": {},
     "output_type": "execute_result"
    },
    {
     "data": {
      "image/png": "[encoded data removed]",
      "text/plain": [
       "<Figure size 540x684 with 3 Axes>"
      ]
     },
     "metadata": {
      "needs_background": "light"
     },
     "output_type": "display_data"
    }
   ],
   "source": [
    "#Seeing if the age they are brought in and how long they are \n",
    "features = ['intake_month', 'outcome_month']\n",
    "\n",
    "interact = pdp_interact(\n",
    "    model_gs,\n",
    "    dataset=X_val,\n",
    "    model_features=X_val.columns,\n",
    "    features=features\n",
    ")\n",
    "pdp_interact_plot(interact, plot_type='grid', feature_names=features)"
   ]
  },
  {
   "cell_type": "code",
   "execution_count": null,
   "metadata": {},
   "outputs": [],
   "source": []
  }
 ],
 "metadata": {
  "kernelspec": {
   "display_name": "Python 3",
   "language": "python",
   "name": "python3"
  },
  "language_info": {
   "codemirror_mode": {
    "name": "ipython",
    "version": 3
   },
   "file_extension": ".py",
   "mimetype": "text/x-python",
   "name": "python",
   "nbconvert_exporter": "python",
   "pygments_lexer": "ipython3",
   "version": "3.8.2"
  }
 },
 "nbformat": 4,
 "nbformat_minor": 4
}
